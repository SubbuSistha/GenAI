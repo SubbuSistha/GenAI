{
 "cells": [
  {
   "cell_type": "markdown",
   "metadata": {},
   "source": [
    "Natural Language Processing "
   ]
  },
  {
   "cell_type": "markdown",
   "metadata": {},
   "source": [
    "Road Map\n",
    "\n",
    "ML\n",
    "  supervised <br>\n",
    "  unsupervised\n",
    "\n",
    "\n",
    "Use Cases:\n",
    "1. Automatic spelling correction\n",
    "2. Summarize the emails\n",
    "3. Free Translation\n",
    "4. Text to Image \n",
    "\n",
    "https://huggingface.co/ best example for AI tools"
   ]
  }
 ],
 "metadata": {
  "language_info": {
   "name": "python"
  }
 },
 "nbformat": 4,
 "nbformat_minor": 2
}
