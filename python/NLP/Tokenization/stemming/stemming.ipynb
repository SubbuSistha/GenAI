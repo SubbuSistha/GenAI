{
 "cells": [
  {
   "cell_type": "markdown",
   "metadata": {},
   "source": [
    "Stemming is a text normalization technique used in Natural Language Processing (NLP) to reduce words to their root or base form. It is a crucial step in tokenization and helps improve search results, text mining, and information retrieval by treating different forms of a word as the same.\n",
    "\n"
   ]
  },
  {
   "cell_type": "markdown",
   "metadata": {},
   "source": [
    "Stemming removes suffixes and prefixes from words to get their root form (stem). However, this process is often rule-based and heuristic, meaning it may not always produce a valid word.\n",
    "\n"
   ]
  },
  {
   "cell_type": "markdown",
   "metadata": {},
   "source": [
    "Common Stemming Algorithms <br>\n",
    "Porter Stemmer – One of the most widely used stemming algorithms, based on a set of heuristic rules.<br>\n",
    "Lancaster Stemmer – More aggressive and can produce very short stems.<br>\n",
    "Snowball Stemmer – An improved version of Porter Stemmer, supporting multiple languages.<br>"
   ]
  },
  {
   "cell_type": "code",
   "execution_count": 8,
   "metadata": {},
   "outputs": [],
   "source": [
    "words = ['fairly','fasting','having', 'running','history','historically','final','stemming','algorithms','however','removes']\n"
   ]
  },
  {
   "cell_type": "code",
   "execution_count": 9,
   "metadata": {},
   "outputs": [
    {
     "name": "stdout",
     "output_type": "stream",
     "text": [
      "fairly------> fairli\n",
      "fasting------> fast\n",
      "having------> have\n",
      "running------> run\n",
      "history------> histori\n",
      "historically------> histor\n",
      "final------> final\n",
      "stemming------> stem\n",
      "algorithms------> algorithm\n",
      "however------> howev\n",
      "removes------> remov\n"
     ]
    }
   ],
   "source": [
    "from nltk import PorterStemmer\n",
    "\n",
    "porter_stemmer = PorterStemmer()\n",
    "for word in words:\n",
    "    print(f\"{word}------> {porter_stemmer.stem(word)}\")"
   ]
  },
  {
   "cell_type": "code",
   "execution_count": 11,
   "metadata": {},
   "outputs": [
    {
     "name": "stdout",
     "output_type": "stream",
     "text": [
      "fairly------> fair\n",
      "fasting------> fast\n",
      "having------> have\n",
      "running------> run\n",
      "history------> histori\n",
      "historically------> histor\n",
      "final------> final\n",
      "stemming------> stem\n",
      "algorithms------> algorithm\n",
      "however------> howev\n",
      "removes------> remov\n"
     ]
    }
   ],
   "source": [
    "from nltk import SnowballStemmer\n",
    "\n",
    "snowball_stemmer = SnowballStemmer(\"english\")\n",
    "for word in words:\n",
    "    print(f\"{word}------> {snowball_stemmer.stem(word)}\")"
   ]
  },
  {
   "cell_type": "code",
   "execution_count": 14,
   "metadata": {},
   "outputs": [
    {
     "name": "stdout",
     "output_type": "stream",
     "text": [
      "fairly------> fair\n",
      "fasting------> fast\n",
      "having------> have\n",
      "running------> run\n",
      "history------> histori\n",
      "historically------> histor\n",
      "final------> final\n",
      "stemming------> stem\n",
      "algorithms------> algorithm\n",
      "however------> howev\n",
      "removes------> remov\n"
     ]
    }
   ],
   "source": [
    "def stem_formatted(word):\n",
    "        stem_word = snowball_stemmer.stem(word)\n",
    "        print(f\"{word}------> {stem_word}\")\n",
    "        return stem_word\n",
    "\n",
    "stems = [stem_formatted(word) for word in words]"
   ]
  },
  {
   "cell_type": "code",
   "execution_count": null,
   "metadata": {},
   "outputs": [
    {
     "name": "stdout",
     "output_type": "stream",
     "text": [
      "['fair', 'fast', 'have', 'run', 'histori', 'histor', 'final', 'stem', 'algorithm', 'howev', 'remov']\n"
     ]
    },
    {
     "ename": "",
     "evalue": "",
     "output_type": "error",
     "traceback": [
      "\u001b[1;31mThe Kernel crashed while executing code in the current cell or a previous cell. \n",
      "\u001b[1;31mPlease review the code in the cell(s) to identify a possible cause of the failure. \n",
      "\u001b[1;31mClick <a href='https://aka.ms/vscodeJupyterKernelCrash'>here</a> for more info. \n",
      "\u001b[1;31mView Jupyter <a href='command:jupyter.viewOutput'>log</a> for further details."
     ]
    }
   ],
   "source": [
    "print(stems)"
   ]
  }
 ],
 "metadata": {
  "kernelspec": {
   "display_name": "Python 3",
   "language": "python",
   "name": "python3"
  },
  "language_info": {
   "codemirror_mode": {
    "name": "ipython",
    "version": 3
   },
   "file_extension": ".py",
   "mimetype": "text/x-python",
   "name": "python",
   "nbconvert_exporter": "python",
   "pygments_lexer": "ipython3",
   "version": "3.12.8"
  }
 },
 "nbformat": 4,
 "nbformat_minor": 2
}
