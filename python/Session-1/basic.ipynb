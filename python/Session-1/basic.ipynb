{
 "cells": [
  {
   "cell_type": "markdown",
   "metadata": {},
   "source": [
    "Python Example"
   ]
  },
  {
   "cell_type": "code",
   "execution_count": 1,
   "metadata": {},
   "outputs": [
    {
     "data": {
      "text/plain": [
       "2"
      ]
     },
     "execution_count": 1,
     "metadata": {},
     "output_type": "execute_result"
    }
   ],
   "source": [
    "1+1"
   ]
  },
  {
   "cell_type": "code",
   "execution_count": 8,
   "metadata": {},
   "outputs": [
    {
     "name": "stdout",
     "output_type": "stream",
     "text": [
      "23\n",
      "15\n",
      "<class 'int'>\n",
      "<class 'str'>\n",
      "10 <class 'int'>\n"
     ]
    }
   ],
   "source": [
    "## case sensitive\n",
    "## python use indentation, 4 spaces  or tab\n",
    "## Line continous (\\)\n",
    "total = 1+2+3+4+\\\n",
    "6+7\n",
    "print(total)\n",
    "## multiple statements on single line\n",
    "x = 5;y = 10;z = x+y\n",
    "print(z)\n",
    "## Dynamic typing, python determine variable type at runtime\n",
    "print(type(x))\n",
    "\n",
    "## Naming Convention\n",
    "  ## Variables names should be descriptive\n",
    "  ## Start with letters or _\n",
    "\n",
    "\n",
    "## Type Conversion\n",
    "age = 10\n",
    "print(type(str(age)))\n",
    "\n",
    "\n",
    "#Dynamic Typing\n",
    "var = 10\n",
    "print(var, type(var))\n",
    "\n"
   ]
  },
  {
   "cell_type": "code",
   "execution_count": 13,
   "metadata": {},
   "outputs": [
    {
     "name": "stdout",
     "output_type": "stream",
     "text": [
      "True <class 'bool'>\n",
      "False <class 'bool'>\n",
      "True\n",
      "True\n"
     ]
    }
   ],
   "source": [
    "## Basic Data Types\n",
    " ## \n",
    "\n",
    "print(bool(1), type(bool(1)))\n",
    "print(bool(0), type(bool(1)))\n",
    "print(bool(5))\n",
    "print(bool(-5))"
   ]
  },
  {
   "cell_type": "code",
   "execution_count": 26,
   "metadata": {},
   "outputs": [
    {
     "name": "stdout",
     "output_type": "stream",
     "text": [
      "[]\n",
      "<class 'list'>\n",
      "7\n",
      "[7]\n",
      "[1, 3, 4, 5, 6, 7, 9]\n",
      "0 1\n",
      "1 3\n",
      "2 4\n",
      "3 6\n",
      "4 7\n",
      "5 9\n",
      "[0, 1, 4, 9, 16, 25, 36, 49, 64, 81]\n"
     ]
    }
   ],
   "source": [
    "## List\n",
    "lst = []\n",
    "print(lst)\n",
    "print(type(lst))\n",
    "\n",
    "lst = [1,3,4,5,6,7]\n",
    "\n",
    "print(lst[-1])\n",
    "\n",
    "print(lst[-1:])\n",
    "\n",
    "## List method\n",
    "lst.append(9)\n",
    "\n",
    "print(lst)\n",
    "\n",
    "lst.remove(5) ## removes the first occurence\n",
    "\n",
    "for index, number in enumerate(lst):\n",
    "    print(index, number)\n",
    "\n",
    "## lst comphresion\n",
    "## [result and condition]\n",
    "## [expression items condition ]\n",
    "print([x**2 for x in range(10)])\n",
    "\n"
   ]
  }
 ],
 "metadata": {
  "kernelspec": {
   "display_name": "EnvK",
   "language": "python",
   "name": "python3"
  },
  "language_info": {
   "codemirror_mode": {
    "name": "ipython",
    "version": 3
   },
   "file_extension": ".py",
   "mimetype": "text/x-python",
   "name": "python",
   "nbconvert_exporter": "python",
   "pygments_lexer": "ipython3",
   "version": "3.12.8"
  }
 },
 "nbformat": 4,
 "nbformat_minor": 2
}
