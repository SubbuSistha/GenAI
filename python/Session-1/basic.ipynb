{
 "cells": [
  {
   "cell_type": "markdown",
   "metadata": {},
   "source": [
    "Python Example"
   ]
  },
  {
   "cell_type": "markdown",
   "metadata": {},
   "source": []
  },
  {
   "cell_type": "code",
   "execution_count": 2,
   "metadata": {},
   "outputs": [
    {
     "data": {
      "text/plain": [
       "2"
      ]
     },
     "execution_count": 2,
     "metadata": {},
     "output_type": "execute_result"
    }
   ],
   "source": [
    "1+1"
   ]
  },
  {
   "cell_type": "code",
   "execution_count": 3,
   "metadata": {},
   "outputs": [
    {
     "name": "stdout",
     "output_type": "stream",
     "text": [
      "23\n",
      "15\n",
      "<class 'int'>\n",
      "<class 'str'>\n",
      "10 <class 'int'>\n"
     ]
    }
   ],
   "source": [
    "## case sensitive\n",
    "## python use indentation, 4 spaces  or tab\n",
    "## Line continous (\\)\n",
    "total = 1+2+3+4+\\\n",
    "6+7\n",
    "print(total)\n",
    "## multiple statements on single line\n",
    "x = 5;y = 10;z = x+y\n",
    "print(z)\n",
    "## Dynamic typing, python determine variable type at runtime\n",
    "print(type(x))\n",
    "\n",
    "## Naming Convention\n",
    "  ## Variables names should be descriptive\n",
    "  ## Start with letters or _\n",
    "\n",
    "\n",
    "## Type Conversion\n",
    "age = 10\n",
    "print(type(str(age)))\n",
    "\n",
    "\n",
    "#Dynamic Typing\n",
    "var = 10\n",
    "print(var, type(var))\n",
    "\n"
   ]
  },
  {
   "cell_type": "code",
   "execution_count": 4,
   "metadata": {},
   "outputs": [
    {
     "name": "stdout",
     "output_type": "stream",
     "text": [
      "True <class 'bool'>\n",
      "False <class 'bool'>\n",
      "True\n",
      "True\n"
     ]
    }
   ],
   "source": [
    "## Basic Data Types\n",
    " ## \n",
    "\n",
    "print(bool(1), type(bool(1)))\n",
    "print(bool(0), type(bool(1)))\n",
    "print(bool(5))\n",
    "print(bool(-5))"
   ]
  },
  {
   "cell_type": "code",
   "execution_count": 5,
   "metadata": {},
   "outputs": [
    {
     "name": "stdout",
     "output_type": "stream",
     "text": [
      "[]\n",
      "<class 'list'>\n",
      "7\n",
      "[7]\n",
      "[1, 3, 4, 5, 6, 7, 9]\n",
      "0 1\n",
      "1 3\n",
      "2 4\n",
      "3 6\n",
      "4 7\n",
      "5 9\n",
      "[0, 1, 4, 9, 16, 25, 36, 49, 64, 81]\n"
     ]
    }
   ],
   "source": [
    "## List\n",
    "lst = []\n",
    "print(lst)\n",
    "print(type(lst))\n",
    "\n",
    "lst = [1,3,4,5,6,7]\n",
    "\n",
    "print(lst[-1])\n",
    "\n",
    "print(lst[-1:])\n",
    "\n",
    "## List method\n",
    "lst.append(9)\n",
    "\n",
    "print(lst)\n",
    "\n",
    "lst.remove(5) ## removes the first occurence\n",
    "\n",
    "for index, number in enumerate(lst):\n",
    "    print(index, number)\n",
    "\n",
    "## lst comphresion\n",
    "## [result and condition]\n",
    "## [expression items condition ]\n",
    "print([x**2 for x in range(10)])\n",
    "\n",
    "## Nested list comphresion \n",
    "\n",
    "##  \n"
   ]
  },
  {
   "cell_type": "code",
   "execution_count": 6,
   "metadata": {},
   "outputs": [
    {
     "name": "stdout",
     "output_type": "stream",
     "text": [
      "First Function\n"
     ]
    }
   ],
   "source": [
    "## Function is block of code, reusable code and readability\n",
    "\n",
    "def first_function():\n",
    "    return \"First Function\"\n",
    "\n",
    "print(first_function())\n"
   ]
  },
  {
   "cell_type": "markdown",
   "metadata": {},
   "source": [
    "Formatted String (New)"
   ]
  },
  {
   "cell_type": "code",
   "execution_count": 7,
   "metadata": {},
   "outputs": [
    {
     "name": "stdout",
     "output_type": "stream",
     "text": [
      "Subbu Geetha\n"
     ]
    }
   ],
   "source": [
    "## Formatted String\n",
    "name = \"Subbu\"\n",
    "board_name = f\"{name} Geetha\"\n",
    "\n",
    "print(board_name)"
   ]
  },
  {
   "cell_type": "code",
   "execution_count": 9,
   "metadata": {},
   "outputs": [
    {
     "name": "stdout",
     "output_type": "stream",
     "text": [
      "(2, 3)\n"
     ]
    }
   ],
   "source": [
    "def star_function(*args):\n",
    "    print(args)\n",
    "\n",
    "star_function(2,3)"
   ]
  },
  {
   "cell_type": "code",
   "execution_count": 22,
   "metadata": {},
   "outputs": [
    {
     "name": "stdout",
     "output_type": "stream",
     "text": [
      "{'name': 'Krithik', 'age': 6}\n",
      "{'name': 'Krithik', 'age': 6}\n"
     ]
    }
   ],
   "source": [
    "def double_star_function(**args):\n",
    "    print(args)\n",
    "\n",
    "custom_dict={\"name\":\"Krithik\",\"age\":6}\n",
    "\n",
    "print(custom_dict)\n",
    "##print(**custom_dict)\n",
    "double_star_function(**custom_dict)"
   ]
  },
  {
   "cell_type": "code",
   "execution_count": 23,
   "metadata": {},
   "outputs": [
    {
     "name": "stdout",
     "output_type": "stream",
     "text": [
      "{'name': 'Krithik', 'age': 6}\n",
      "(12, 34)\n"
     ]
    }
   ],
   "source": [
    "def print_both(*args,**dick_args):\n",
    "    print(dick_args)\n",
    "    print(args)\n",
    "\n",
    "print_both(12,34, **custom_dict)    "
   ]
  },
  {
   "cell_type": "markdown",
   "metadata": {},
   "source": [
    "Lamda Expression    "
   ]
  },
  {
   "cell_type": "code",
   "execution_count": 25,
   "metadata": {},
   "outputs": [
    {
     "name": "stdout",
     "output_type": "stream",
     "text": [
      "True\n",
      "False\n"
     ]
    }
   ],
   "source": [
    "## lamda arguments: expression\n",
    "\n",
    "even = lambda val : val%2 ==0\n",
    "\n",
    "print(even(12))\n",
    "print(even(13))"
   ]
  },
  {
   "cell_type": "code",
   "execution_count": 28,
   "metadata": {},
   "outputs": [
    {
     "name": "stdout",
     "output_type": "stream",
     "text": [
      "[False, True, False]\n"
     ]
    }
   ],
   "source": [
    "list_of_numbers = [1,2,5]\n",
    "\n",
    "print([even(item) for item in list_of_numbers])"
   ]
  },
  {
   "cell_type": "markdown",
   "metadata": {},
   "source": [
    "Map"
   ]
  },
  {
   "cell_type": "code",
   "execution_count": 8,
   "metadata": {},
   "outputs": [
    {
     "name": "stdout",
     "output_type": "stream",
     "text": [
      "<map object at 0x000001B5A6E02EC0>\n",
      "(1, 4, 9, 16)\n",
      "[3, 5, 8]\n",
      "[2, 3, 4]\n",
      "[2, 3, 4]\n",
      "['ABC', 'CDF']\n"
     ]
    }
   ],
   "source": [
    "numbers = [1,2,3,4]\n",
    "\n",
    "## map(function, iteratable)\n",
    "print(map(lambda x: x*x, numbers))\n",
    "print(tuple(map(lambda x: x*x, numbers)))\n",
    "\n",
    "\n",
    "n1 = [1,2,3]\n",
    "n2 = [2,3,5]\n",
    "\n",
    "print(list(map(lambda x,y: x+y, n1,n2))) # Sum of n1 + n2\n",
    "\n",
    "n3 = [\"2\",\"3\",\"4\"]\n",
    "\n",
    "print(list(map(lambda x: int(x), n3)))\n",
    "\n",
    "print(list(map(int, n3)))\n",
    "\n",
    "words = [\"abc\",\"cdf\"]\n",
    "\n",
    "print(list(map(str.upper, words)))\n",
    "\n"
   ]
  },
  {
   "cell_type": "code",
   "execution_count": 14,
   "metadata": {},
   "outputs": [
    {
     "name": "stdout",
     "output_type": "stream",
     "text": [
      "['Subbu', 'Geetha']\n"
     ]
    }
   ],
   "source": [
    "people = [\n",
    "    {\n",
    "        'name': 'Subbu'\n",
    "    },\n",
    "    {\n",
    "        'name': 'Geetha'\n",
    "    }\n",
    "]\n",
    "\n",
    "print(list(map(lambda obj: obj['name'], people)))"
   ]
  }
 ],
 "metadata": {
  "kernelspec": {
   "display_name": "EnvK",
   "language": "python",
   "name": "python3"
  },
  "language_info": {
   "codemirror_mode": {
    "name": "ipython",
    "version": 3
   },
   "file_extension": ".py",
   "mimetype": "text/x-python",
   "name": "python",
   "nbconvert_exporter": "python",
   "pygments_lexer": "ipython3",
   "version": "3.12.8"
  }
 },
 "nbformat": 4,
 "nbformat_minor": 2
}
